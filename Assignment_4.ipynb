{
  "nbformat": 4,
  "nbformat_minor": 0,
  "metadata": {
    "colab": {
      "name": "Assignment-4.ipynb",
      "provenance": [],
      "authorship_tag": "ABX9TyPu8eXnh1bDRqDvQrP7dCiV",
      "include_colab_link": true
    },
    "kernelspec": {
      "name": "python3",
      "display_name": "Python 3"
    }
  },
  "cells": [
    {
      "cell_type": "markdown",
      "metadata": {
        "id": "view-in-github",
        "colab_type": "text"
      },
      "source": [
        "<a href=\"https://colab.research.google.com/github/Usharbudha/Deep-Learning-SEM-3/blob/master/Assignment_4.ipynb\" target=\"_parent\"><img src=\"https://colab.research.google.com/assets/colab-badge.svg\" alt=\"Open In Colab\"/></a>"
      ]
    },
    {
      "cell_type": "markdown",
      "metadata": {
        "id": "qUt_EjjfteDh",
        "colab_type": "text"
      },
      "source": [
        "# CIFAR 100"
      ]
    },
    {
      "cell_type": "code",
      "metadata": {
        "id": "xpHXNKvSZK-u",
        "colab_type": "code",
        "colab": {
          "base_uri": "https://localhost:8080/",
          "height": 85
        },
        "outputId": "0fc22c35-dbfa-4422-81cb-87fc604fe016"
      },
      "source": [
        "from keras.datasets import cifar100\n",
        "\n",
        "(X_train,y_train),(X_test,y_test)=cifar100.load_data()\n",
        "print(X_train.shape)\n",
        "print(y_train.shape)\n",
        "print(X_test.shape)\n",
        "print(y_test.shape)\n",
        "\n",
        "# Normalize pixel values to be between 0 and 1\n",
        "X_train,X_test=X_train/255.0,X_test/255.0"
      ],
      "execution_count": null,
      "outputs": [
        {
          "output_type": "stream",
          "text": [
            "(50000, 32, 32, 3)\n",
            "(50000, 1)\n",
            "(10000, 32, 32, 3)\n",
            "(10000, 1)\n"
          ],
          "name": "stdout"
        }
      ]
    },
    {
      "cell_type": "code",
      "metadata": {
        "id": "CpLAYwCrZYTC",
        "colab_type": "code",
        "colab": {}
      },
      "source": [
        "from keras.models import Sequential\n",
        "from keras.layers import Dense\n",
        "import tensorflow as tf\n",
        "\n",
        "model=tf.keras.models.Sequential([\n",
        "tf.keras.layers.Conv2D(32,(3,3),activation='relu',input_shape=(32,32,3)),\n",
        "tf.keras.layers.MaxPooling2D((2, 2)),\n",
        "tf.keras.layers.Conv2D(64,(3,3),activation='relu'),\n",
        "tf.keras.layers.MaxPooling2D((2, 2)),\n",
        "tf.keras.layers.Conv2D(64,(3,3),activation='relu'),\n",
        "tf.keras.layers.Flatten(),\n",
        "tf.keras.layers.Dense(128,activation='relu'),\n",
        "tf.keras.layers.Dense(100)\n",
        "])"
      ],
      "execution_count": null,
      "outputs": []
    },
    {
      "cell_type": "code",
      "metadata": {
        "id": "L-kg5QCfZdjQ",
        "colab_type": "code",
        "colab": {
          "base_uri": "https://localhost:8080/",
          "height": 425
        },
        "outputId": "0981f495-c87d-49cf-ef08-529498a48762"
      },
      "source": [
        "model.summary()"
      ],
      "execution_count": null,
      "outputs": [
        {
          "output_type": "stream",
          "text": [
            "Model: \"sequential_10\"\n",
            "_________________________________________________________________\n",
            "Layer (type)                 Output Shape              Param #   \n",
            "=================================================================\n",
            "conv2d_27 (Conv2D)           (None, 30, 30, 32)        896       \n",
            "_________________________________________________________________\n",
            "max_pooling2d_18 (MaxPooling (None, 15, 15, 32)        0         \n",
            "_________________________________________________________________\n",
            "conv2d_28 (Conv2D)           (None, 13, 13, 64)        18496     \n",
            "_________________________________________________________________\n",
            "max_pooling2d_19 (MaxPooling (None, 6, 6, 64)          0         \n",
            "_________________________________________________________________\n",
            "conv2d_29 (Conv2D)           (None, 4, 4, 64)          36928     \n",
            "_________________________________________________________________\n",
            "flatten_9 (Flatten)          (None, 1024)              0         \n",
            "_________________________________________________________________\n",
            "dense_23 (Dense)             (None, 128)               131200    \n",
            "_________________________________________________________________\n",
            "dense_24 (Dense)             (None, 100)               12900     \n",
            "=================================================================\n",
            "Total params: 200,420\n",
            "Trainable params: 200,420\n",
            "Non-trainable params: 0\n",
            "_________________________________________________________________\n"
          ],
          "name": "stdout"
        }
      ]
    },
    {
      "cell_type": "code",
      "metadata": {
        "id": "QHucwu-1Zg9I",
        "colab_type": "code",
        "colab": {
          "base_uri": "https://localhost:8080/",
          "height": 1000
        },
        "outputId": "94172d21-9a2f-4fd8-d6e1-acefe85b7734"
      },
      "source": [
        "model.compile(optimizer='sgd',loss=tf.keras.losses.SparseCategoricalCrossentropy(from_logits=True),metrics=['accuracy'])\n",
        "\n",
        "cb=tf.keras.callbacks.EarlyStopping(patience=3,monitor='val_accuracy',restore_best_weights=True)\n",
        "\n",
        "history=model.fit(X_train,y_train,epochs=30,validation_data=(X_test,y_test),callbacks=[cb])"
      ],
      "execution_count": null,
      "outputs": [
        {
          "output_type": "stream",
          "text": [
            "Epoch 1/30\n",
            "1563/1563 [==============================] - 54s 34ms/step - loss: 4.5783 - accuracy: 0.0164 - val_loss: 4.4771 - val_accuracy: 0.0328\n",
            "Epoch 2/30\n",
            "1563/1563 [==============================] - 55s 35ms/step - loss: 4.2329 - accuracy: 0.0568 - val_loss: 4.0942 - val_accuracy: 0.0701\n",
            "Epoch 3/30\n",
            "1563/1563 [==============================] - 54s 35ms/step - loss: 3.9597 - accuracy: 0.0980 - val_loss: 3.8862 - val_accuracy: 0.1092\n",
            "Epoch 4/30\n",
            "1563/1563 [==============================] - 54s 35ms/step - loss: 3.7713 - accuracy: 0.1297 - val_loss: 3.6989 - val_accuracy: 0.1461\n",
            "Epoch 5/30\n",
            "1563/1563 [==============================] - 55s 35ms/step - loss: 3.6050 - accuracy: 0.1575 - val_loss: 3.6807 - val_accuracy: 0.1499\n",
            "Epoch 6/30\n",
            "1563/1563 [==============================] - 60s 39ms/step - loss: 3.4625 - accuracy: 0.1808 - val_loss: 3.4481 - val_accuracy: 0.1878\n",
            "Epoch 7/30\n",
            "1563/1563 [==============================] - 61s 39ms/step - loss: 3.3327 - accuracy: 0.2050 - val_loss: 3.3459 - val_accuracy: 0.2070\n",
            "Epoch 8/30\n",
            "1563/1563 [==============================] - 61s 39ms/step - loss: 3.2120 - accuracy: 0.2296 - val_loss: 3.3757 - val_accuracy: 0.1998\n",
            "Epoch 9/30\n",
            "1563/1563 [==============================] - 62s 40ms/step - loss: 3.0962 - accuracy: 0.2495 - val_loss: 3.2048 - val_accuracy: 0.2347\n",
            "Epoch 10/30\n",
            "1563/1563 [==============================] - 62s 40ms/step - loss: 2.9925 - accuracy: 0.2696 - val_loss: 3.2483 - val_accuracy: 0.2323\n",
            "Epoch 11/30\n",
            "1563/1563 [==============================] - 60s 39ms/step - loss: 2.9037 - accuracy: 0.2880 - val_loss: 3.1084 - val_accuracy: 0.2479\n",
            "Epoch 12/30\n",
            "1563/1563 [==============================] - 62s 39ms/step - loss: 2.8207 - accuracy: 0.3045 - val_loss: 2.9679 - val_accuracy: 0.2784\n",
            "Epoch 13/30\n",
            "1563/1563 [==============================] - 62s 39ms/step - loss: 2.7503 - accuracy: 0.3172 - val_loss: 2.8994 - val_accuracy: 0.2921\n",
            "Epoch 14/30\n",
            "1563/1563 [==============================] - 62s 40ms/step - loss: 2.6860 - accuracy: 0.3285 - val_loss: 2.9011 - val_accuracy: 0.2879\n",
            "Epoch 15/30\n",
            "1563/1563 [==============================] - 58s 37ms/step - loss: 2.6222 - accuracy: 0.3424 - val_loss: 2.8463 - val_accuracy: 0.3010\n",
            "Epoch 16/30\n",
            "1563/1563 [==============================] - 54s 35ms/step - loss: 2.5664 - accuracy: 0.3535 - val_loss: 2.7919 - val_accuracy: 0.3121\n",
            "Epoch 17/30\n",
            "1563/1563 [==============================] - 55s 35ms/step - loss: 2.5106 - accuracy: 0.3673 - val_loss: 2.8777 - val_accuracy: 0.2967\n",
            "Epoch 18/30\n",
            "1563/1563 [==============================] - 54s 35ms/step - loss: 2.4597 - accuracy: 0.3759 - val_loss: 2.8040 - val_accuracy: 0.3116\n",
            "Epoch 19/30\n",
            "1563/1563 [==============================] - 56s 36ms/step - loss: 2.4079 - accuracy: 0.3887 - val_loss: 2.7647 - val_accuracy: 0.3222\n",
            "Epoch 20/30\n",
            "1563/1563 [==============================] - 61s 39ms/step - loss: 2.3611 - accuracy: 0.3970 - val_loss: 2.7536 - val_accuracy: 0.3257\n",
            "Epoch 21/30\n",
            "1563/1563 [==============================] - 60s 39ms/step - loss: 2.3091 - accuracy: 0.4077 - val_loss: 2.7307 - val_accuracy: 0.3347\n",
            "Epoch 22/30\n",
            "1563/1563 [==============================] - 60s 38ms/step - loss: 2.2664 - accuracy: 0.4159 - val_loss: 2.7991 - val_accuracy: 0.3205\n",
            "Epoch 23/30\n",
            "1563/1563 [==============================] - 60s 39ms/step - loss: 2.2218 - accuracy: 0.4261 - val_loss: 2.6863 - val_accuracy: 0.3437\n",
            "Epoch 24/30\n",
            "1563/1563 [==============================] - 61s 39ms/step - loss: 2.1745 - accuracy: 0.4357 - val_loss: 2.6599 - val_accuracy: 0.3492\n",
            "Epoch 25/30\n",
            "1563/1563 [==============================] - 59s 38ms/step - loss: 2.1314 - accuracy: 0.4458 - val_loss: 2.7564 - val_accuracy: 0.3386\n",
            "Epoch 26/30\n",
            "1563/1563 [==============================] - 59s 38ms/step - loss: 2.0836 - accuracy: 0.4546 - val_loss: 2.6763 - val_accuracy: 0.3485\n",
            "Epoch 27/30\n",
            "1563/1563 [==============================] - 59s 38ms/step - loss: 2.0439 - accuracy: 0.4634 - val_loss: 2.6741 - val_accuracy: 0.3501\n",
            "Epoch 28/30\n",
            "1563/1563 [==============================] - 60s 38ms/step - loss: 1.9991 - accuracy: 0.4751 - val_loss: 2.7434 - val_accuracy: 0.3415\n",
            "Epoch 29/30\n",
            "1563/1563 [==============================] - 57s 36ms/step - loss: 1.9627 - accuracy: 0.4808 - val_loss: 2.6779 - val_accuracy: 0.3590\n",
            "Epoch 30/30\n",
            "1563/1563 [==============================] - 60s 38ms/step - loss: 1.9228 - accuracy: 0.4909 - val_loss: 2.7025 - val_accuracy: 0.3553\n"
          ],
          "name": "stdout"
        }
      ]
    },
    {
      "cell_type": "code",
      "metadata": {
        "id": "DVVhktgnZpme",
        "colab_type": "code",
        "colab": {
          "base_uri": "https://localhost:8080/",
          "height": 300
        },
        "outputId": "3c353aac-2b84-485a-ddcb-3ceeb03bb8e8"
      },
      "source": [
        "plt.plot(history.history['accuracy'], label='accuracy')\n",
        "plt.plot(history.history['val_accuracy'], label = 'val_accuracy')\n",
        "plt.xlabel('Epoch')\n",
        "plt.ylabel('Accuracy')\n",
        "plt.ylim([0.2,0.6])\n",
        "plt.legend(loc='upper right')\n",
        "\n",
        "test_loss, test_acc = model.evaluate(X_test,y_test, verbose=2)"
      ],
      "execution_count": null,
      "outputs": [
        {
          "output_type": "stream",
          "text": [
            "313/313 - 3s - loss: 2.7025 - accuracy: 0.3553\n"
          ],
          "name": "stdout"
        },
        {
          "output_type": "display_data",
          "data": {
            "image/png": "[encoded data removed]",
            "text/plain": [
              "<Figure size 432x288 with 1 Axes>"
            ]
          },
          "metadata": {
            "tags": [],
            "needs_background": "light"
          }
        }
      ]
    },
    {
      "cell_type": "markdown",
      "metadata": {
        "id": "NUDDZtlTSDX5",
        "colab_type": "text"
      },
      "source": [
        "# Fashion MNIST"
      ]
    },
    {
      "cell_type": "code",
      "metadata": {
        "id": "MH9itq-bfzdE",
        "colab_type": "code",
        "colab": {}
      },
      "source": [
        "import tensorflow as tf\n",
        "from tensorflow.keras.datasets import fashion_mnist\n",
        "from tensorflow.keras.layers import Dense,Dropout,Conv2D,Flatten,Activation\n",
        "from tensorflow.keras.models import Sequential\n",
        "from tensorflow.keras.utils import to_categorical"
      ],
      "execution_count": null,
      "outputs": []
    },
    {
      "cell_type": "code",
      "metadata": {
        "id": "jX5uIa9LSi4-",
        "colab_type": "code",
        "colab": {
          "base_uri": "https://localhost:8080/",
          "height": 85
        },
        "outputId": "65071abc-1940-448a-f191-37d45166fa13"
      },
      "source": [
        "(X_train,y_train),(X_test,y_test)=fashion_mnist.load_data()\n",
        "print(X_train.shape)\n",
        "print(y_train.shape)\n",
        "print(X_test.shape)\n",
        "print(y_test.shape)"
      ],
      "execution_count": null,
      "outputs": [
        {
          "output_type": "stream",
          "text": [
            "(60000, 28, 28)\n",
            "(60000,)\n",
            "(10000, 28, 28)\n",
            "(10000,)\n"
          ],
          "name": "stdout"
        }
      ]
    },
    {
      "cell_type": "code",
      "metadata": {
        "id": "RGposinXYffz",
        "colab_type": "code",
        "colab": {}
      },
      "source": [
        "X_train=X_train.reshape(60000,28*28*1)\n",
        "X_test=X_test.reshape(10000,28*28*1)\n",
        "\n",
        "X_train=X_train.astype('float32')\n",
        "X_test=X_test.astype('float32')\n",
        "\n",
        "#preprocessing\n",
        "X_train/=255.0\n",
        "X_test/=255.0\n",
        "\n",
        "y_train=to_categorical(y_train,10)\n",
        "y_test=to_categorical(y_test,10)"
      ],
      "execution_count": null,
      "outputs": []
    },
    {
      "cell_type": "code",
      "metadata": {
        "id": "2ksfROVogx-1",
        "colab_type": "code",
        "colab": {
          "base_uri": "https://localhost:8080/",
          "height": 282
        },
        "outputId": "ad459bf5-c97d-4f3b-ec50-a87cdefba26d"
      },
      "source": [
        "import matplotlib.pyplot as plt\n",
        "plt.imshow(X_train[1])"
      ],
      "execution_count": null,
      "outputs": [
        {
          "output_type": "execute_result",
          "data": {
            "text/plain": [
              "<matplotlib.image.AxesImage at 0x7f5a2770ff28>"
            ]
          },
          "metadata": {
            "tags": []
          },
          "execution_count": 23
        },
        {
          "output_type": "display_data",
          "data": {
            "image/png": "[encoded data removed]",
            "text/plain": [
              "<Figure size 432x288 with 1 Axes>"
            ]
          },
          "metadata": {
            "tags": [],
            "needs_background": "light"
          }
        }
      ]
    },
    {
      "cell_type": "code",
      "metadata": {
        "id": "8cgGVPfwjI0V",
        "colab_type": "code",
        "colab": {
          "base_uri": "https://localhost:8080/",
          "height": 901
        },
        "outputId": "85f8b53f-03d9-4746-9a59-7fa59304244d"
      },
      "source": [
        "initializers=tf.keras.initializers.glorot_normal()\n",
        "\n",
        "model=tf.keras.models.Sequential([\n",
        "tf.keras.layers.Dense(1024,input_dim=784,kernel_initializer=initializers,bias_initializer=initializers,activation='relu'),\n",
        "tf.keras.layers.Dense(512,kernel_initializer=initializers,bias_initializer=initializers,activation='relu'),\n",
        "tf.keras.layers.Dense(256,kernel_initializer=initializers,bias_initializer=initializers,activation='relu'),\n",
        "tf.keras.layers.Dense(10,kernel_initializer=initializers,bias_initializer=initializers,activation='softmax')])\n",
        "\n",
        "#compile\n",
        "model.compile(optimizer='sgd',loss='categorical_crossentropy',metrics=['accuracy'])\n",
        "\n",
        "cb=tf.keras.callbacks.EarlyStopping(patience=3,monitor='val_accuracy',restore_best_weights=True)\n",
        "\n",
        "history=model.fit(X_train,y_train,epochs=50,validation_data=(X_test,y_test),callbacks=[cb])"
      ],
      "execution_count": 2,
      "outputs": [
        {
          "output_type": "stream",
          "text": [
            "Epoch 1/50\n",
            "1875/1875 [==============================] - 24s 13ms/step - loss: 0.6594 - accuracy: 0.7783 - val_loss: 0.4929 - val_accuracy: 0.8268\n",
            "Epoch 2/50\n",
            "1875/1875 [==============================] - 25s 13ms/step - loss: 0.4509 - accuracy: 0.8411 - val_loss: 0.4641 - val_accuracy: 0.8345\n",
            "Epoch 3/50\n",
            "1875/1875 [==============================] - 24s 13ms/step - loss: 0.4025 - accuracy: 0.8580 - val_loss: 0.4605 - val_accuracy: 0.8326\n",
            "Epoch 4/50\n",
            "1875/1875 [==============================] - 25s 13ms/step - loss: 0.3750 - accuracy: 0.8659 - val_loss: 0.4188 - val_accuracy: 0.8507\n",
            "Epoch 5/50\n",
            "1875/1875 [==============================] - 24s 13ms/step - loss: 0.3534 - accuracy: 0.8731 - val_loss: 0.4009 - val_accuracy: 0.8566\n",
            "Epoch 6/50\n",
            "1875/1875 [==============================] - 24s 13ms/step - loss: 0.3361 - accuracy: 0.8788 - val_loss: 0.3766 - val_accuracy: 0.8680\n",
            "Epoch 7/50\n",
            "1875/1875 [==============================] - 25s 13ms/step - loss: 0.3225 - accuracy: 0.8835 - val_loss: 0.3636 - val_accuracy: 0.8683\n",
            "Epoch 8/50\n",
            "1875/1875 [==============================] - 25s 13ms/step - loss: 0.3102 - accuracy: 0.8875 - val_loss: 0.3562 - val_accuracy: 0.8724\n",
            "Epoch 9/50\n",
            "1875/1875 [==============================] - 24s 13ms/step - loss: 0.2980 - accuracy: 0.8909 - val_loss: 0.3541 - val_accuracy: 0.8732\n",
            "Epoch 10/50\n",
            "1875/1875 [==============================] - 24s 13ms/step - loss: 0.2874 - accuracy: 0.8950 - val_loss: 0.3455 - val_accuracy: 0.8743\n",
            "Epoch 11/50\n",
            "1875/1875 [==============================] - 24s 13ms/step - loss: 0.2786 - accuracy: 0.8985 - val_loss: 0.3405 - val_accuracy: 0.8765\n",
            "Epoch 12/50\n",
            "1875/1875 [==============================] - 24s 13ms/step - loss: 0.2689 - accuracy: 0.9018 - val_loss: 0.3356 - val_accuracy: 0.8768\n",
            "Epoch 13/50\n",
            "1875/1875 [==============================] - 24s 13ms/step - loss: 0.2610 - accuracy: 0.9041 - val_loss: 0.3281 - val_accuracy: 0.8818\n",
            "Epoch 14/50\n",
            "1875/1875 [==============================] - 24s 13ms/step - loss: 0.2527 - accuracy: 0.9081 - val_loss: 0.3263 - val_accuracy: 0.8825\n",
            "Epoch 15/50\n",
            "1875/1875 [==============================] - 24s 13ms/step - loss: 0.2459 - accuracy: 0.9104 - val_loss: 0.3148 - val_accuracy: 0.8850\n",
            "Epoch 16/50\n",
            "1875/1875 [==============================] - 24s 13ms/step - loss: 0.2392 - accuracy: 0.9127 - val_loss: 0.3209 - val_accuracy: 0.8842\n",
            "Epoch 17/50\n",
            "1875/1875 [==============================] - 24s 13ms/step - loss: 0.2321 - accuracy: 0.9143 - val_loss: 0.3378 - val_accuracy: 0.8776\n",
            "Epoch 18/50\n",
            "1875/1875 [==============================] - 24s 13ms/step - loss: 0.2258 - accuracy: 0.9176 - val_loss: 0.3112 - val_accuracy: 0.8895\n",
            "Epoch 19/50\n",
            "1875/1875 [==============================] - 24s 13ms/step - loss: 0.2198 - accuracy: 0.9191 - val_loss: 0.3213 - val_accuracy: 0.8840\n",
            "Epoch 20/50\n",
            "1875/1875 [==============================] - 25s 13ms/step - loss: 0.2137 - accuracy: 0.9228 - val_loss: 0.3173 - val_accuracy: 0.8859\n",
            "Epoch 21/50\n",
            "1875/1875 [==============================] - 25s 13ms/step - loss: 0.2072 - accuracy: 0.9244 - val_loss: 0.3116 - val_accuracy: 0.8900\n",
            "Epoch 22/50\n",
            "1875/1875 [==============================] - 24s 13ms/step - loss: 0.2026 - accuracy: 0.9256 - val_loss: 0.3218 - val_accuracy: 0.8881\n",
            "Epoch 23/50\n",
            "1875/1875 [==============================] - 24s 13ms/step - loss: 0.1952 - accuracy: 0.9290 - val_loss: 0.3050 - val_accuracy: 0.8921\n",
            "Epoch 24/50\n",
            "1875/1875 [==============================] - 25s 13ms/step - loss: 0.1909 - accuracy: 0.9306 - val_loss: 0.3142 - val_accuracy: 0.8882\n",
            "Epoch 25/50\n",
            "1875/1875 [==============================] - 25s 13ms/step - loss: 0.1844 - accuracy: 0.9330 - val_loss: 0.3168 - val_accuracy: 0.8879\n",
            "Epoch 26/50\n",
            "1875/1875 [==============================] - 25s 13ms/step - loss: 0.1812 - accuracy: 0.9334 - val_loss: 0.3322 - val_accuracy: 0.8849\n"
          ],
          "name": "stdout"
        }
      ]
    },
    {
      "cell_type": "code",
      "metadata": {
        "id": "OCyHu1MVlxcT",
        "colab_type": "code",
        "colab": {
          "base_uri": "https://localhost:8080/",
          "height": 300
        },
        "outputId": "a3c60520-911a-4687-8f27-4be7211959f4"
      },
      "source": [
        "import matplotlib.pyplot as plt\n",
        "\n",
        "plt.plot(history.history['accuracy'], label='accuracy')\n",
        "plt.plot(history.history['val_accuracy'], label = 'val_accuracy')\n",
        "plt.xlabel('Epoch')\n",
        "plt.ylabel('Accuracy')\n",
        "plt.ylim([0.5,1])\n",
        "plt.legend(loc='upper right')\n",
        "\n",
        "test_loss, test_acc = model.evaluate(X_test,y_test, verbose=2)"
      ],
      "execution_count": 5,
      "outputs": [
        {
          "output_type": "stream",
          "text": [
            "313/313 - 1s - loss: 0.3050 - accuracy: 0.8921\n"
          ],
          "name": "stdout"
        },
        {
          "output_type": "display_data",
          "data": {
            "image/png": "[encoded data removed]",
            "text/plain": [
              "<Figure size 432x288 with 1 Axes>"
            ]
          },
          "metadata": {
            "tags": [],
            "needs_background": "light"
          }
        }
      ]
    },
    {
      "cell_type": "markdown",
      "metadata": {
        "id": "PML9v176yYj7",
        "colab_type": "text"
      },
      "source": [
        "# MNIST"
      ]
    },
    {
      "cell_type": "code",
      "metadata": {
        "id": "bSi5x89PnNq4",
        "colab_type": "code",
        "colab": {
          "base_uri": "https://localhost:8080/",
          "height": 697
        },
        "outputId": "96d6a072-2d93-4d1d-a326-8c280352608b"
      },
      "source": [
        "import tensorflow as tf\n",
        "import keras\n",
        "from keras.datasets import mnist\n",
        "from keras.models import Sequential\n",
        "from keras.layers import Dense,Dropout,Activation,Flatten\n",
        "from keras.utils import to_categorical\n",
        "\n",
        "(X_train,y_train),(X_test,y_test)=mnist.load_data()\n",
        "\n",
        "X_train=X_train.reshape(60000,28*28*1)\n",
        "X_test=X_test.reshape(10000,28*28*1)\n",
        "\n",
        "X_train=X_train.astype('float32')\n",
        "X_test=X_test.astype('float32')\n",
        "\n",
        "#preprocessing\n",
        "X_train/=255.0\n",
        "X_test/=255.0\n",
        "\n",
        "y_train=to_categorical(y_train,10)\n",
        "y_test=to_categorical(y_test,10)\n",
        "\n",
        "\n",
        "initializers=tf.keras.initializers.glorot_normal()\n",
        "model=tf.keras.models.Sequential([\n",
        "tf.keras.layers.Dense(1024,input_dim=784,kernel_initializer=initializers,bias_initializer=initializers,activation='relu'),\n",
        "tf.keras.layers.Dense(512,kernel_initializer=initializers,bias_initializer=initializers,activation='relu'),\n",
        "tf.keras.layers.Dense(256,kernel_initializer=initializers,bias_initializer=initializers,activation='relu'),\n",
        "tf.keras.layers.Dense(10,kernel_initializer=initializers,bias_initializer=initializers,activation='softmax')])\n",
        "\n",
        "#compile\n",
        "model.compile(optimizer='sgd',loss='categorical_crossentropy',metrics=['accuracy'])\n",
        "\n",
        "cb=tf.keras.callbacks.EarlyStopping(patience=3,monitor='val_accuracy',restore_best_weights=True)\n",
        "\n",
        "history=model.fit(X_train,y_train,epochs=50,validation_data=(X_test,y_test),callbacks=[cb])"
      ],
      "execution_count": 6,
      "outputs": [
        {
          "output_type": "stream",
          "text": [
            "Downloading data from https://storage.googleapis.com/tensorflow/tf-keras-datasets/mnist.npz\n",
            "11493376/11490434 [==============================] - 0s 0us/step\n",
            "Epoch 1/50\n",
            "1875/1875 [==============================] - 25s 13ms/step - loss: 0.5197 - accuracy: 0.8652 - val_loss: 0.2601 - val_accuracy: 0.9267\n",
            "Epoch 2/50\n",
            "1875/1875 [==============================] - 25s 13ms/step - loss: 0.2314 - accuracy: 0.9322 - val_loss: 0.1962 - val_accuracy: 0.9434\n",
            "Epoch 3/50\n",
            "1875/1875 [==============================] - 25s 13ms/step - loss: 0.1756 - accuracy: 0.9496 - val_loss: 0.1594 - val_accuracy: 0.9521\n",
            "Epoch 4/50\n",
            "1875/1875 [==============================] - 24s 13ms/step - loss: 0.1409 - accuracy: 0.9594 - val_loss: 0.1300 - val_accuracy: 0.9624\n",
            "Epoch 5/50\n",
            "1875/1875 [==============================] - 25s 13ms/step - loss: 0.1165 - accuracy: 0.9663 - val_loss: 0.1268 - val_accuracy: 0.9619\n",
            "Epoch 6/50\n",
            "1875/1875 [==============================] - 25s 13ms/step - loss: 0.0978 - accuracy: 0.9727 - val_loss: 0.0986 - val_accuracy: 0.9695\n",
            "Epoch 7/50\n",
            "1875/1875 [==============================] - 25s 13ms/step - loss: 0.0833 - accuracy: 0.9764 - val_loss: 0.0910 - val_accuracy: 0.9724\n",
            "Epoch 8/50\n",
            "1875/1875 [==============================] - 24s 13ms/step - loss: 0.0721 - accuracy: 0.9798 - val_loss: 0.0844 - val_accuracy: 0.9736\n",
            "Epoch 9/50\n",
            "1875/1875 [==============================] - 24s 13ms/step - loss: 0.0628 - accuracy: 0.9820 - val_loss: 0.0796 - val_accuracy: 0.9754\n",
            "Epoch 10/50\n",
            "1875/1875 [==============================] - 25s 13ms/step - loss: 0.0548 - accuracy: 0.9847 - val_loss: 0.0775 - val_accuracy: 0.9761\n",
            "Epoch 11/50\n",
            "1875/1875 [==============================] - 24s 13ms/step - loss: 0.0479 - accuracy: 0.9869 - val_loss: 0.0719 - val_accuracy: 0.9761\n",
            "Epoch 12/50\n",
            "1875/1875 [==============================] - 24s 13ms/step - loss: 0.0421 - accuracy: 0.9888 - val_loss: 0.0719 - val_accuracy: 0.9771\n",
            "Epoch 13/50\n",
            "1875/1875 [==============================] - 25s 13ms/step - loss: 0.0375 - accuracy: 0.9904 - val_loss: 0.0713 - val_accuracy: 0.9778\n",
            "Epoch 14/50\n",
            "1875/1875 [==============================] - 25s 13ms/step - loss: 0.0329 - accuracy: 0.9915 - val_loss: 0.0692 - val_accuracy: 0.9784\n",
            "Epoch 15/50\n",
            "1875/1875 [==============================] - 24s 13ms/step - loss: 0.0293 - accuracy: 0.9927 - val_loss: 0.0654 - val_accuracy: 0.9799\n",
            "Epoch 16/50\n",
            "1875/1875 [==============================] - 24s 13ms/step - loss: 0.0253 - accuracy: 0.9940 - val_loss: 0.0610 - val_accuracy: 0.9807\n",
            "Epoch 17/50\n",
            "1875/1875 [==============================] - 24s 13ms/step - loss: 0.0225 - accuracy: 0.9951 - val_loss: 0.0684 - val_accuracy: 0.9782\n",
            "Epoch 18/50\n",
            "1875/1875 [==============================] - 24s 13ms/step - loss: 0.0197 - accuracy: 0.9961 - val_loss: 0.0654 - val_accuracy: 0.9789\n",
            "Epoch 19/50\n",
            "1875/1875 [==============================] - 24s 13ms/step - loss: 0.0175 - accuracy: 0.9968 - val_loss: 0.0623 - val_accuracy: 0.9802\n"
          ],
          "name": "stdout"
        }
      ]
    },
    {
      "cell_type": "code",
      "metadata": {
        "id": "8HzfS75Koaz1",
        "colab_type": "code",
        "colab": {
          "base_uri": "https://localhost:8080/",
          "height": 300
        },
        "outputId": "2e932513-fec2-4e9f-b2c3-e5843d8e2495"
      },
      "source": [
        "plt.plot(history.history['accuracy'], label='accuracy')\n",
        "plt.plot(history.history['val_accuracy'], label = 'val_accuracy')\n",
        "plt.xlabel('Epoch')\n",
        "plt.ylabel('Accuracy')\n",
        "plt.ylim([0.8,1])\n",
        "plt.legend(loc='upper right')\n",
        "\n",
        "test_loss, test_acc = model.evaluate(X_test,y_test, verbose=2)"
      ],
      "execution_count": 7,
      "outputs": [
        {
          "output_type": "stream",
          "text": [
            "313/313 - 1s - loss: 0.0610 - accuracy: 0.9807\n"
          ],
          "name": "stdout"
        },
        {
          "output_type": "display_data",
          "data": {
            "image/png": "[encoded data removed]",
            "text/plain": [
              "<Figure size 432x288 with 1 Axes>"
            ]
          },
          "metadata": {
            "tags": [],
            "needs_background": "light"
          }
        }
      ]
    },
    {
      "cell_type": "code",
      "metadata": {
        "id": "ZhUhQTmRoeZV",
        "colab_type": "code",
        "colab": {}
      },
      "source": [
        ""
      ],
      "execution_count": null,
      "outputs": []
    }
  ]
}